{
 "cells": [
  {
   "cell_type": "code",
   "execution_count": 4,
   "metadata": {},
   "outputs": [
    {
     "name": "stdout",
     "output_type": "stream",
     "text": [
      "This paper describes ELIZA, a computer program that allows for natural language conversation with a human user.  ELIZA breaks down user input sentences and generates a response based on key words and associated rules. The program is designed to be incrementally improved through the use of \"scripts,\" which are sets of rules that guide the conversation.  The authors discuss the technical aspects of ELIZA, including keyword identification, context analysis, transformation rules, and response generation. They also explore the psychological implications of ELIZA's ability to create the illusion of understanding and argue for its potential use in developing natural language man-machine communication systems.  The paper concludes with an examination of the limitations of ELIZA and outlines future goals for developing more sophisticated and robust natural language processing systems.\n"
     ]
    }
   ],
   "source": [
    "import google.generativeai as genai\n",
    "\n",
    "# Set your API key\n",
    "with open(\"/home/tyson/.config/echo/echo_google_key\") as fh:\n",
    "    api_key = fh.read().strip()\n",
    "    genai.configure(api_key=api_key)\n",
    "\n",
    "model = genai.GenerativeModel(\"gemini-1.5-flash\")\n",
    "sample_pdf = genai.upload_file(\"/home/tyson/echo/resources/example_dataset/chatbots/eliza.pdf\")\n",
    "response = model.generate_content([\"Give me a summary of this pdf file.\", sample_pdf])\n",
    "print(response.text)"
   ]
  },
  {
   "cell_type": "code",
   "execution_count": 6,
   "metadata": {},
   "outputs": [],
   "source": [
    "genai.delete_file(sample_pdf.name)"
   ]
  }
 ],
 "metadata": {
  "kernelspec": {
   "display_name": "Python 3 (ipykernel)",
   "language": "python",
   "name": "python3"
  },
  "language_info": {
   "codemirror_mode": {
    "name": "ipython",
    "version": 3
   },
   "file_extension": ".py",
   "mimetype": "text/x-python",
   "name": "python",
   "nbconvert_exporter": "python",
   "pygments_lexer": "ipython3",
   "version": "3.10.12"
  }
 },
 "nbformat": 4,
 "nbformat_minor": 2
}
