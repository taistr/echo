{
 "cells": [
  {
   "cell_type": "code",
   "execution_count": 8,
   "metadata": {},
   "outputs": [
    {
     "name": "stdout",
     "output_type": "stream",
     "text": [
      "898965e73bc17d467cb759fcb1849458\n"
     ]
    }
   ],
   "source": [
    "import hashlib\n",
    "\n",
    "algorithm = \"md5\"\n",
    "file_path = \"/home/tyson/echo/resources/example_dataset/robotics/inner_monologue.pdf\"\n",
    "\n",
    "hash_function = hashlib.new(algorithm)\n",
    "with open(file_path, \"rb\") as fh:\n",
    "    while chunk := fh.read(8192):\n",
    "        hash_function.update(chunk)\n",
    "\n",
    "print(hash_function.hexdigest())"
   ]
  }
 ],
 "metadata": {
  "kernelspec": {
   "display_name": "echo-Xx8MTCPR-py3.10",
   "language": "python",
   "name": "python3"
  },
  "language_info": {
   "codemirror_mode": {
    "name": "ipython",
    "version": 3
   },
   "file_extension": ".py",
   "mimetype": "text/x-python",
   "name": "python",
   "nbconvert_exporter": "python",
   "pygments_lexer": "ipython3",
   "version": "3.10.12"
  }
 },
 "nbformat": 4,
 "nbformat_minor": 2
}
