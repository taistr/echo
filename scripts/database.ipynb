{
 "cells": [
  {
   "cell_type": "code",
   "execution_count": 13,
   "metadata": {},
   "outputs": [],
   "source": [
    "import lancedb\n",
    "from lancedb.pydantic import LanceModel, Vector\n",
    "from typing import Any\n",
    "\n",
    "def documentation_schema(dimensions: int):\n",
    "    class Excerpt(LanceModel):\n",
    "        id: str\n",
    "        tags: list[str]\n",
    "        vector: Vector(dimensions) # type: ignore\n",
    "        text: str\n",
    "\n",
    "        def to_dict(self) -> dict[str, Any]:\n",
    "            return {\n",
    "                \"id\": self.id,\n",
    "                \"tags\": self.tags,\n",
    "                \"vector\": list(self.vector),\n",
    "                \"text\": self.text,\n",
    "            }\n",
    "\n",
    "    return Excerpt\n",
    "\n",
    "check = documentation_schema(10)\n"
   ]
  },
  {
   "cell_type": "code",
   "execution_count": 14,
   "metadata": {},
   "outputs": [],
   "source": [
    "yo = check(id=\"yo\", tags=[\"yo\"], vector=[1,2,3,4,5,6,7,8,9,10], text=\"yo\")"
   ]
  },
  {
   "cell_type": "code",
   "execution_count": 16,
   "metadata": {},
   "outputs": [
    {
     "data": {
      "text/plain": [
       "['yo']"
      ]
     },
     "execution_count": 16,
     "metadata": {},
     "output_type": "execute_result"
    }
   ],
   "source": [
    "list(yo.tags)"
   ]
  }
 ],
 "metadata": {
  "kernelspec": {
   "display_name": "echo-Xx8MTCPR-py3.11",
   "language": "python",
   "name": "python3"
  },
  "language_info": {
   "codemirror_mode": {
    "name": "ipython",
    "version": 3
   },
   "file_extension": ".py",
   "mimetype": "text/x-python",
   "name": "python",
   "nbconvert_exporter": "python",
   "pygments_lexer": "ipython3",
   "version": "3.11.10"
  }
 },
 "nbformat": 4,
 "nbformat_minor": 2
}
